{
 "cells": [
  {
   "attachments": {},
   "cell_type": "markdown",
   "metadata": {},
   "source": [
    "# Michaelis Menten Activity\n"
   ]
  },
  {
   "cell_type": "code",
   "execution_count": null,
   "metadata": {},
   "outputs": [
    {
     "ename": "",
     "evalue": "",
     "output_type": "error",
     "traceback": [
      "\u001b[1;31mRunning cells with 'kinetics_simulator' requires ipykernel package.\n",
      "\u001b[1;31mRun the following command to install 'ipykernel' into the Python environment. \n",
      "\u001b[1;31mCommand: 'conda install -n kinetics_simulator ipykernel --update-deps --force-reinstall'"
     ]
    }
   ],
   "source": [
    "import numpy as np\n",
    "from collections import OrderedDict\n",
    "\n",
    "# define the concentration and time units\n",
    "concentration_units, time_units = 'µM', 's'\n",
    "\n",
    "# define a vector of times to solve over\n",
    "time = np.linspace(0, 500, 500) \n",
    "\n",
    "# define a reaction dictionary for reactions modeled with mass action kinetics\n",
    "# a reversible reaction may be defined with a \"<->\" character\n",
    "# the forward rate constant of a given reaction must be provided first in the ordered dictionary\n",
    "mass_action_dict = {\n",
    "    'S + E <-> SE': OrderedDict({'kon': 100, 'koff': 1}), # binding of substrate to enzyme\n",
    "    'SE -> P + E': OrderedDict({'kchem': 100}) # chemical step\n",
    "}\n",
    "\n",
    "# define an initial state for the system\n",
    "# if an initial value for a specie is not give, the code assigns it as zero\n",
    "initial_values = {'S': 1000, 'E': 0.1}\n",
    "\n",
    "# define a plotting dictionary\n",
    "plot_kwargs = {'title': 'Kinetic Simulation',\n",
    "                'fontsize': 12,\n",
    "                'figsize': (12,12),\n",
    "                'multithread': False, # turn on multithreading to leverage parallel processing\n",
    "                'tol': 1e-8, # tolerance for the numerical integrator\n",
    "                'S': {'min': 0, 'max': 1000, 'start': 1000, 'stepsize': 10}, # define a slider for the initial concentration of a specie\n",
    "                'kchem': {'min': 0, 'max': 200, 'start': 100, 'stepsize': 1}, # define a slider for a specific rate constant\n",
    "                'kon': {'min': 0, 'max': 1009, 'start': 100, 'stepsize': 1},\n",
    "                'koff': {'min': 0, 'max': 1000, 'start': 1, 'stepsize': 1},\n",
    "                'S': {'min': 0, 'max': 2000, 'start': 1000, 'stepsize': 10}\n",
    "                }"
   ]
  },
  {
   "cell_type": "code",
   "execution_count": 11,
   "metadata": {},
   "outputs": [
    {
     "data": {
      "application/vnd.jupyter.widget-view+json": {
       "model_id": "d9638804f66e432caea2b72e36b15f6c",
       "version_major": 2,
       "version_minor": 0
      },
      "text/plain": [
       "VBox(children=(FigureWidget({\n",
       "    'data': [{'name': 'E',\n",
       "              'type': 'scatter',\n",
       "              'uid':…"
      ]
     },
     "metadata": {},
     "output_type": "display_data"
    }
   ],
   "source": [
    "import sys\n",
    "sys.path.insert(0, '../')\n",
    "from src.guis import ProgressCurveGUI\n",
    "from src.chemicalkinetics import ChemicalReactionNetwork\n",
    "\n",
    "reaction_network = ChemicalReactionNetwork(mass_action_dict, {}, initial_values, time, concentration_units, time_units)\n",
    "figure = ProgressCurveGUI(reaction_network, plot_kwargs)\n",
    "figure.interactive()"
   ]
  },
  {
   "cell_type": "code",
   "execution_count": 12,
   "metadata": {},
   "outputs": [
    {
     "data": {
      "application/vnd.jupyter.widget-view+json": {
       "model_id": "3beaaf2a61e64b43a1169f450be3fa00",
       "version_major": 2,
       "version_minor": 0
      },
      "text/plain": [
       "VBox(children=(FigureWidget({\n",
       "    'data': [{'name': 'E',\n",
       "              'type': 'scatter',\n",
       "              'uid':…"
      ]
     },
     "metadata": {},
     "output_type": "display_data"
    }
   ],
   "source": [
    "import numpy as np\n",
    "from collections import OrderedDict\n",
    "\n",
    "# define the concentration and time units\n",
    "concentration_units, time_units = 'µM', 's'\n",
    "\n",
    "# define a vector of times to solve over\n",
    "time = np.linspace(0, 500, 500) \n",
    "\n",
    "# define a michaelis menten reaction\n",
    "michaelis_menten_dict = {\n",
    "    'S + E -> E + P': OrderedDict({'kcat': 100, 'Km': 1.01})\n",
    "}\n",
    "\n",
    "\n",
    "# define an initial state for the system\n",
    "# if an initial value for a specie is not give, the code assigns it as zero\n",
    "initial_values = {'S': 1000, 'E': 0.1}\n",
    "\n",
    "# define a plotting dictionary\n",
    "plot_kwargs = {'title': 'Kinetic Simulation',\n",
    "                'fontsize': 12,\n",
    "                'figsize': (12,12),\n",
    "                'multithread': False, # turn on multithreading to leverage parallel processing\n",
    "                'tol': 1e-8, # tolerance for the numerical integrator\n",
    "                'S': {'min': 0, 'max': 1000, 'start': 1000, 'stepsize': 10}, # define a slider for the initial concentration of a specie\n",
    "                'kcat': {'min': 0, 'max': 200, 'start': 100, 'stepsize': 1}, # define a slider for a specific rate constant\n",
    "                'Km': {'min': 0, 'max': 2000, 'start': 1.01, 'stepsize': 1},\n",
    "                'S': {'min': 0, 'max': 2000, 'start': 1000, 'stepsize': 10}\n",
    "                }\n",
    "reaction_network = ChemicalReactionNetwork({}, michaelis_menten_dict, initial_values, time, concentration_units, time_units)\n",
    "figure = ProgressCurveGUI(reaction_network, plot_kwargs)\n",
    "figure.interactive()"
   ]
  },
  {
   "cell_type": "code",
   "execution_count": null,
   "metadata": {},
   "outputs": [],
   "source": []
  }
 ],
 "metadata": {
  "kernelspec": {
   "display_name": "kinetics_simulator",
   "language": "python",
   "name": "python3"
  },
  "language_info": {
   "codemirror_mode": {
    "name": "ipython",
    "version": 3
   },
   "file_extension": ".py",
   "mimetype": "text/x-python",
   "name": "python",
   "nbconvert_exporter": "python",
   "pygments_lexer": "ipython3",
   "version": "3.9.12 (main, Jun  1 2022, 06:36:29) \n[Clang 12.0.0 ]"
  },
  "orig_nbformat": 4,
  "vscode": {
   "interpreter": {
    "hash": "c41e286d5e7f7416220f0ce79cbaf3d628542c9723452d728430731e7c180d67"
   }
  }
 },
 "nbformat": 4,
 "nbformat_minor": 2
}

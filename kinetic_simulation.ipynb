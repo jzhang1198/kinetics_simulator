{
 "cells": [
  {
   "cell_type": "markdown",
   "metadata": {},
   "source": [
    "# Kinetics Simulator\n",
    "\n",
    "This notebook allows you to simulate the kinetics of a chemical reaction network.\n",
    "\n",
    "## Before You Begin\n",
    "\n",
    "Ensure you have both [anaconda](https://docs.conda.io/projects/conda/en/latest/index.html) and [git](https://git-scm.com/downloads) installed. Anaconda will allow you to install the requisite python software libraires that are needed to run the code. Git will allow you to easily access newer versions of the code as they come out.\n",
    "\n",
    "## Setup\n",
    "\n",
    "Before running any cells, you will need to first create a virtual environment for this notebook. To do this, navigate to the directory containing this notebook and run the following command in your terminal:\n",
    "\n",
    "<code>conda env create -f environment.yml</code>\n",
    "\n",
    "## Theory\n",
    "\n",
    "As enzymologists, we are often interested in simulating the behaviour of a system of coupled enzymatic reactions. If we have prior knowledge of the rate constants associated with these individual reactions, we can model their behaviours using mass action or Michaelis Menten kinetics. For a chemical reaction network, this is done by first defining a vector of rates, where each element corresponds to the time derivative of a chemical species. We can always construct such a vector using chemical rate laws and the Michaelis Menten equation. After computing this rate vector, we can numerically integrate to solve for a concentration vector for each timepoint. \n",
    "\n",
    "## Running the Notebook\n",
    "\n",
    "To run a kinetic simulation, you will need to define an array of timepoints and three dictionaries. The first dictionary, <code>mass_action_dict</code>, contains all the elementary reactions modeled using mass action kinetics and their corresponding rate constants. The enzymatic reactions modelled by Michaelis-Menten kinetics are contained in the <code>michaelis_menten_dict</code>. The third and final dictionary, <code>initial_values</code>, defines the initial state of the chemical reaction network.\n",
    "\n",
    "When writing these dictionaries, ensure you abide by the following conventions:\n",
    "1) Substrates names and rate constant names should have no spaces and none of the following special characters: *, ->, +, <->. Note that all names should be unique.\n",
    "2) All substrates, characters, and stoichiometric coefficients should be separated by a single space.\n",
    "3) Reversible reactions are designated by a '<->' character. The two rate constants are associated with the forward and reverse reactions respectively.\n",
    "4) Initial substrate concentrations left undefined will automatically be set to zero.\n",
    "5) If you have no Michaelis Menten or mass action reactions, it is ok to leave their respective dictionaries empty.\n",
    "6) The <code>plot_kwargs</code> dictionary is completely optional. If you would like more control over the appearance of your plot, feel free to add key-value pairs as appropriate."
   ]
  },
  {
   "cell_type": "code",
   "execution_count": 1,
   "metadata": {},
   "outputs": [],
   "source": [
    "import numpy as np\n",
    "from collections import OrderedDict\n",
    "from src.chemicalkinetics import ChemicalReactionNetwork\n",
    "from src.guis import ProgressCurveGUI"
   ]
  },
  {
   "cell_type": "code",
   "execution_count": 2,
   "metadata": {},
   "outputs": [],
   "source": [
    "#define a vector of times to solve over\n",
    "start = 0\n",
    "stop = 2000\n",
    "no_steps = 400\n",
    "time = np.linspace(start, stop, no_steps)"
   ]
  },
  {
   "cell_type": "code",
   "execution_count": 3,
   "metadata": {},
   "outputs": [],
   "source": [
    "#define reaction dictionaries and provide an initial state for your system\n",
    "mass_action_dict = {}\n",
    "michaelis_menten_dict = {'Pi + PNP -> PNP + Hypoxanthine': OrderedDict({'kcat': 17, 'Km': 170}),\n",
    "    'Hypoxanthine + XO -> XO + UricAcid': OrderedDict({'kcat_XO': 22, 'Km_XO': 50})\n",
    "    }\n",
    "initial_values = OrderedDict({'Pi': 10, 'XO': 1, 'PNP': 0.1})"
   ]
  },
  {
   "cell_type": "code",
   "execution_count": 7,
   "metadata": {},
   "outputs": [],
   "source": [
    "#define kwargs for plotting (optional)\n",
    "plot_kwargs = {'title': 'Mass Action Kinetics of a Model Reaction',\n",
    "                'xlabel': 'Time (s)',\n",
    "                'ylabel': 'Concentration (uM)',\n",
    "                'fontsize': 12,\n",
    "                'figsize': (12,12),\n",
    "                'multithread': True,\n",
    "                'tol': 1e-8,\n",
    "                'Pi': {'min': 0, 'max': 10000, 'start': 10, 'stepsize': 1},\n",
    "                'XO': {'min': 0.001, 'max': 0.5, 'start': 0.1, 'stepsize': 0.001}\n",
    "                }"
   ]
  },
  {
   "cell_type": "code",
   "execution_count": 8,
   "metadata": {},
   "outputs": [
    {
     "data": {
      "application/vnd.jupyter.widget-view+json": {
       "model_id": "2705a1dc9d7b47dd9202220a9a4d27f7",
       "version_major": 2,
       "version_minor": 0
      },
      "text/plain": [
       "VBox(children=(FigureWidget({\n",
       "    'data': [{'name': 'Pi',\n",
       "              'type': 'scatter',\n",
       "              'uid'…"
      ]
     },
     "metadata": {},
     "output_type": "display_data"
    }
   ],
   "source": [
    "#launch interactive dashboard\n",
    "reaction_network = ChemicalReactionNetwork(mass_action_dict, michaelis_menten_dict, initial_values, time)\n",
    "figure = ProgressCurveGUI(reaction_network, plot_kwargs)\n",
    "figure.interactive()"
   ]
  },
  {
   "cell_type": "code",
   "execution_count": 41,
   "metadata": {},
   "outputs": [
    {
     "data": {
      "image/png": "[encoded data removed]",
      "text/plain": [
       "<Figure size 720x288 with 3 Axes>"
      ]
     },
     "metadata": {
      "needs_background": "light"
     },
     "output_type": "display_data"
    }
   ],
   "source": [
    "from scipy.stats import linregress\n",
    "from scipy.optimize import curve_fit\n",
    "from matplotlib import pyplot as plt\n",
    "import time as deez\n",
    "\n",
    "fig, axs = plt.subplots(1,3, figsize=(10,4))\n",
    "\n",
    "def _compute_transient_time(reaction_network):\n",
    "    enzyme_concs = reaction_network.initial_concentrations[reaction_network.michaelis_menten_reactions.enzyme_indices[1:]]\n",
    "    kms, kcats = reaction_network.michaelis_menten_reactions.Kms[1:], reaction_network.michaelis_menten_reactions.kcats[1:]\n",
    "    return np.divide(kms, np.vstack([enzyme_concs, kcats]).prod(axis=0)).sum()\n",
    "\n",
    "def _compute_equilibrium_product(reaction_network, initial_concentrations):\n",
    "    substrate_concentrations = initial_concentrations[reaction_network.michaelis_menten_reactions.substrate_indices]\n",
    "    return np.vstack([substrate_concentrations, reaction_network.michaelis_menten_reactions.substrate_stoichiometries]).prod(axis=0).sum()\n",
    "\n",
    "def mm_model(x, v_max, Km):\n",
    "    return v_max * x / (x + Km)\n",
    "\n",
    "def _fit_linear_portion():\n",
    "    pass\n",
    "\n",
    "def plot_apparent_MM_curve(reaction_network, axs, cutoff=0.5):\n",
    "\n",
    "    Km, kcat, enzyme = reaction_network.michaelis_menten_reactions.Kms[0], reaction_network.michaelis_menten_reactions.kcats[0], reaction_network.initial_concentrations[reaction_network.michaelis_menten_reactions.enzyme_indices[0]]\n",
    "    substrate_concs = np.linspace(Km / 10, Km * 10, 4)\n",
    "\n",
    "    transient_time = _compute_transient_time(reaction_network)\n",
    "    inds = np.where(reaction_network.time > transient_time)[0]\n",
    "    timestep = reaction_network.time[1] - reaction_network.time[0]\n",
    "\n",
    "    observed_rates = []\n",
    "    initial_concentrations = reaction_network.initial_concentrations.copy()\n",
    "\n",
    "    for index, conc in enumerate(substrate_concs):\n",
    "\n",
    "        initial_concentrations[reaction_network.michaelis_menten_reactions.substrate_indices[0]] = conc\n",
    "        equilibrium_product = _compute_equilibrium_product(reaction_network, initial_concentrations)\n",
    "\n",
    "        reaction_network.integrate(initial_concentrations, reaction_network.time)\n",
    "\n",
    "        _SS_regime = reaction_network.concentrations[reaction_network.michaelis_menten_reactions.product_indices[-1],inds]\n",
    "        SS_regime = _SS_regime[_SS_regime < cutoff * equilibrium_product]\n",
    "        observed_rate = linregress(reaction_network.time[inds][0:len(SS_regime)], SS_regime).slope\n",
    "\n",
    "        observed_rates.append(observed_rate)\n",
    "\n",
    "    params, _ = curve_fit(mm_model, substrate_concs, observed_rates)\n",
    "    x = np.linspace(0, Km * 10)\n",
    "    axs[2].plot(x, mm_model(x, params[0], params[1]))\n",
    "    axs[2].plot(x, mm_model(x, kcat * enzyme, Km))\n",
    "\n",
    "def plot_transient_time_trace():\n",
    "    pass"
   ]
  },
  {
   "cell_type": "code",
   "execution_count": 45,
   "metadata": {},
   "outputs": [
    {
     "data": {
      "text/plain": [
       "LinregressResult(slope=1.0, intercept=0.0, rvalue=1.0, pvalue=3.292585384803146e-70, stderr=0.0, intercept_stderr=0.0)"
      ]
     },
     "execution_count": 45,
     "metadata": {},
     "output_type": "execute_result"
    }
   ],
   "source": [
    "a = np.array([0,1,2,3,4,5,6,7,8])\n",
    "linregress(a,a)"
   ]
  },
  {
   "cell_type": "code",
   "execution_count": 35,
   "metadata": {},
   "outputs": [
    {
     "name": "stdout",
     "output_type": "stream",
     "text": [
      "<class 'numpy.ndarray'>\n"
     ]
    }
   ],
   "source": [
    "def gayma():\n",
    "    return \n",
    "\n",
    "a = np.ndarray \n",
    "print(a)"
   ]
  },
  {
   "cell_type": "code",
   "execution_count": 18,
   "metadata": {},
   "outputs": [],
   "source": [
    "class Deez:\n",
    "    def __init__(self):\n",
    "        self.list = [1, 2, 3]"
   ]
  },
  {
   "cell_type": "code",
   "execution_count": 21,
   "metadata": {},
   "outputs": [
    {
     "data": {
      "text/plain": [
       "(['sugon', 2, 3], ['sugon', 2, 3])"
      ]
     },
     "execution_count": 21,
     "metadata": {},
     "output_type": "execute_result"
    }
   ],
   "source": [
    "obj = Deez()\n",
    "copy = obj.list\n",
    "copy[0] = 'sugon'\n",
    "copy, obj.list"
   ]
  },
  {
   "cell_type": "code",
   "execution_count": 22,
   "metadata": {},
   "outputs": [
    {
     "data": {
      "text/plain": [
       "([1, 'deez', 3], [1, 'deez', 3])"
      ]
     },
     "execution_count": 22,
     "metadata": {},
     "output_type": "execute_result"
    }
   ],
   "source": [
    "a = [1,2,3]\n",
    "b = a\n",
    "b[1] = 'deez'\n",
    "a, b"
   ]
  },
  {
   "cell_type": "code",
   "execution_count": 24,
   "metadata": {},
   "outputs": [
    {
     "data": {
      "text/plain": [
       "array([-1, -2, -3])"
      ]
     },
     "execution_count": 24,
     "metadata": {},
     "output_type": "execute_result"
    }
   ],
   "source": [
    "-np.array([1,2,3])"
   ]
  },
  {
   "cell_type": "code",
   "execution_count": 25,
   "metadata": {},
   "outputs": [
    {
     "data": {
      "text/plain": [
       "array([1, 1, 1, 1, 1, 1, 1, 1, 1, 1])"
      ]
     },
     "execution_count": 25,
     "metadata": {},
     "output_type": "execute_result"
    }
   ],
   "source": [
    "np.full(10, 1)"
   ]
  },
  {
   "cell_type": "code",
   "execution_count": null,
   "metadata": {},
   "outputs": [],
   "source": []
  }
 ],
 "metadata": {
  "kernelspec": {
   "display_name": "Python 3",
   "language": "python",
   "name": "python3"
  },
  "language_info": {
   "codemirror_mode": {
    "name": "ipython",
    "version": 3
   },
   "file_extension": ".py",
   "mimetype": "text/x-python",
   "name": "python",
   "nbconvert_exporter": "python",
   "pygments_lexer": "ipython3",
   "version": "3.8.8"
  },
  "vscode": {
   "interpreter": {
    "hash": "40d3a090f54c6569ab1632332b64b2c03c39dcf918b08424e98f38b5ae0af88f"
   }
  }
 },
 "nbformat": 4,
 "nbformat_minor": 4
}

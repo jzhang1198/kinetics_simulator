{
 "cells": [
  {
   "cell_type": "markdown",
   "metadata": {},
   "source": [
    "# Kinetics Simulator\n",
    "\n",
    "This notebook allows you to simulate the kinetics of a chemical reaction network.\n",
    "\n",
    "## Before You Begin\n",
    "\n",
    "Ensure you have both [anaconda](https://docs.conda.io/projects/conda/en/latest/index.html) and [git](https://git-scm.com/downloads) installed. Anaconda will allow you to install the requisite python software libraires that are needed to run the code. Git will allow you to easily access newer versions of the code as they come out.\n",
    "\n",
    "## Setup\n",
    "\n",
    "Before running any cells, you will need to first create a virtual environment for this notebook. To do this, navigate to the directory containing this notebook and run the following command in your terminal:\n",
    "\n",
    "<code>conda env create -f environment.yml</code>\n",
    "\n",
    "## Theory\n",
    "\n",
    "As enzymologists, we are often interested in simulating the behaviour of a system of coupled enzymatic reactions. If we have prior knowledge of the rate constants associated with these individual reactions, we can model their behaviours using mass action or Michaelis Menten kinetics. For a chemical reaction network, this is done by first defining a vector of rates, where each element corresponds to the time derivative of a chemical species. We can always construct such a vector using chemical rate laws and the Michaelis Menten equation. After computing this rate vector, we can numerically integrate to solve for a concentration vector for each timepoint. \n",
    "\n",
    "## Running the Notebook\n",
    "\n",
    "To run a kinetic simulation, you will need to define an array of timepoints and three dictionaries. The first dictionary, <code>mass_action_dict</code>, contains all the elementary reactions modeled using mass action kinetics and their corresponding rate constants. The enzymatic reactions modelled by Michaelis-Menten kinetics are contained in the <code>michaelis_menten_dict</code>. The third and final dictionary, <code>initial_values</code>, defines the initial state of the chemical reaction network.\n",
    "\n",
    "When writing these dictionaries, ensure you abide by the following conventions:\n",
    "1) Substrates names and rate constant names should have no spaces and none of the following special characters: *, ->, +, <->. Note that all names should be unique.\n",
    "2) All substrates, characters, and stoichiometric coefficients should be separated by a single space.\n",
    "3) Reversible reactions are designated by a '<->' character. The two rate constants are associated with the forward and reverse reactions respectively.\n",
    "4) Initial substrate concentrations left undefined will automatically be set to zero.\n",
    "5) If you have no Michaelis Menten or mass action reactions, it is ok to leave their respective dictionaries empty.\n",
    "6) The <code>plot_kwargs</code> dictionary is completely optional. If you would like more control over the appearance of your plot, feel free to add key-value pairs as appropriate."
   ]
  },
  {
   "cell_type": "code",
   "execution_count": 6,
   "metadata": {},
   "outputs": [],
   "source": [
    "import numpy as np\n",
    "from collections import OrderedDict\n",
    "from src.chemicalkinetics import ChemicalReactionNetwork\n",
    "from src.guis import PlotGUI"
   ]
  },
  {
   "cell_type": "code",
   "execution_count": 7,
   "metadata": {},
   "outputs": [],
   "source": [
    "#define a vector of times to solve over\n",
    "start = 0\n",
    "stop = 1000\n",
    "no_steps = 6000\n",
    "time = np.linspace(start, stop, no_steps)"
   ]
  },
  {
   "cell_type": "code",
   "execution_count": 8,
   "metadata": {},
   "outputs": [],
   "source": [
    "#define reaction dictionaries and provide an initial state for your system\n",
    "mass_action_dict = {}\n",
    "michaelis_menten_dict = {'S + E -> E + P': OrderedDict({'kcat': 10, 'Km': 1000})}\n",
    "initial_values = OrderedDict({'S': 1000, 'E': 1})"
   ]
  },
  {
   "cell_type": "code",
   "execution_count": 9,
   "metadata": {},
   "outputs": [],
   "source": [
    "#define kwargs for plotting (optional)\n",
    "plot_kwargs = {'title': 'Mass Action Kinetics of a Model Reaction',\n",
    "                'xlabel': 'Time (s)',\n",
    "                'ylabel': 'Concentration (nM)',\n",
    "                'fontsize': 12,\n",
    "                'figsize': (12,12),\n",
    "                'multithread': True,\n",
    "                'tol': 1e-4,\n",
    "                'S': {'min': 0, 'max': 10000, 'start': 1000, 'stepsize': 1},\n",
    "                'Km': {'min': 0, 'max': 10000, 'start': 1000, 'stepsize': 1}}"
   ]
  },
  {
   "cell_type": "code",
   "execution_count": 10,
   "metadata": {},
   "outputs": [
    {
     "data": {
      "application/vnd.jupyter.widget-view+json": {
       "model_id": "64551dba8d09437ca781b3fd610e12a1",
       "version_major": 2,
       "version_minor": 0
      },
      "text/plain": [
       "VBox(children=(FigureWidget({\n",
       "    'data': [{'name': 'E',\n",
       "              'type': 'scatter',\n",
       "              'uid':…"
      ]
     },
     "metadata": {},
     "output_type": "display_data"
    }
   ],
   "source": [
    "#launch interactive dashboard\n",
    "reaction_network = ChemicalReactionNetwork(mass_action_dict, michaelis_menten_dict, initial_values, time)\n",
    "figure = PlotGUI(reaction_network, plot_kwargs)\n",
    "figure.interactive()"
   ]
  },
  {
   "cell_type": "code",
   "execution_count": null,
   "metadata": {},
   "outputs": [],
   "source": []
  }
 ],
 "metadata": {
  "kernelspec": {
   "display_name": "Python 3",
   "language": "python",
   "name": "python3"
  },
  "language_info": {
   "codemirror_mode": {
    "name": "ipython",
    "version": 3
   },
   "file_extension": ".py",
   "mimetype": "text/x-python",
   "name": "python",
   "nbconvert_exporter": "python",
   "pygments_lexer": "ipython3",
   "version": "3.8.8"
  },
  "vscode": {
   "interpreter": {
    "hash": "40d3a090f54c6569ab1632332b64b2c03c39dcf918b08424e98f38b5ae0af88f"
   }
  }
 },
 "nbformat": 4,
 "nbformat_minor": 4
}
